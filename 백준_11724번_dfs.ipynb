{
  "nbformat": 4,
  "nbformat_minor": 0,
  "metadata": {
    "colab": {
      "name": "백준 11724번 dfs",
      "provenance": [],
      "collapsed_sections": [],
      "authorship_tag": "ABX9TyNRi1NcceOpXkDHPWOkFuJi",
      "include_colab_link": true
    },
    "kernelspec": {
      "name": "python3",
      "display_name": "Python 3"
    },
    "language_info": {
      "name": "python"
    }
  },
  "cells": [
    {
      "cell_type": "markdown",
      "metadata": {
        "id": "view-in-github",
        "colab_type": "text"
      },
      "source": [
        "<a href=\"https://colab.research.google.com/github/max1496/JAVA_PROGRAMMING/blob/main/%EB%B0%B1%EC%A4%80_11724%EB%B2%88_dfs.ipynb\" target=\"_parent\"><img src=\"https://colab.research.google.com/assets/colab-badge.svg\" alt=\"Open In Colab\"/></a>"
      ]
    },
    {
      "cell_type": "code",
      "execution_count": null,
      "metadata": {
        "colab": {
          "base_uri": "https://localhost:8080/"
        },
        "id": "yN8ZCUOhaQda",
        "outputId": "fde457ac-7c73-476d-eac3-7bafd1d9ba0e"
      },
      "outputs": [
        {
          "output_type": "stream",
          "name": "stdout",
          "text": [
            "6 5\n",
            "1 2\n",
            "2 5\n",
            "5 1\n",
            "3 4\n",
            "4 6\n",
            "2\n"
          ]
        }
      ],
      "source": [
        "def dfs(v):\n",
        "\n",
        "    \n",
        "    for j in g[v]:\n",
        "        if visited[j]:\n",
        "            continue\n",
        "        visited[j]=1\n",
        "        dfs(j)\n",
        "    \n",
        "\n",
        "\n",
        "n,m = map(int,input().split())\n",
        "\n",
        "\n",
        "g=[[] for _ in range(n+1)]\n",
        "cnt=0\n",
        "visited = [0]*(n+1)\n",
        "\n",
        "for i in range(m):\n",
        "    a,b= map(int,input().split())\n",
        "    g[a].append(b)\n",
        "    g[b].append(a)\n",
        "\n",
        "for i in range(1,n+1):\n",
        "    if not visited[i]:\n",
        "        dfs(i)\n",
        "        cnt+=1\n",
        "print(cnt)"
      ]
    }
  ]
}