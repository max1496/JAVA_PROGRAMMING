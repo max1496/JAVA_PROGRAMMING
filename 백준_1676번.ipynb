{
  "nbformat": 4,
  "nbformat_minor": 0,
  "metadata": {
    "colab": {
      "name": "백준 1676번",
      "provenance": [],
      "collapsed_sections": [],
      "authorship_tag": "ABX9TyMBLt8f2fgUJbIgbxZ2Z868",
      "include_colab_link": true
    },
    "kernelspec": {
      "name": "python3",
      "display_name": "Python 3"
    },
    "language_info": {
      "name": "python"
    }
  },
  "cells": [
    {
      "cell_type": "markdown",
      "metadata": {
        "id": "view-in-github",
        "colab_type": "text"
      },
      "source": [
        "<a href=\"https://colab.research.google.com/github/max1496/JAVA_PROGRAMMING/blob/main/%EB%B0%B1%EC%A4%80_1676%EB%B2%88.ipynb\" target=\"_parent\"><img src=\"https://colab.research.google.com/assets/colab-badge.svg\" alt=\"Open In Colab\"/></a>"
      ]
    },
    {
      "cell_type": "code",
      "execution_count": null,
      "metadata": {
        "id": "0AnNYoqg8vnC"
      },
      "outputs": [],
      "source": [
        "n=int(input())\n",
        "cnt=0\n",
        "while n!=0:\n",
        "    n//=5\n",
        "    cnt+=n\n",
        "print(cnt)"
      ]
    }
  ]
}