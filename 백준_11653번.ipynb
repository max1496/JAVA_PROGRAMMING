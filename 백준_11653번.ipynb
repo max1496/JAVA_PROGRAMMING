{
  "nbformat": 4,
  "nbformat_minor": 0,
  "metadata": {
    "colab": {
      "name": "백준 11653번",
      "provenance": [],
      "collapsed_sections": [],
      "authorship_tag": "ABX9TyMiS0918qFBhslZhAXJcYP8",
      "include_colab_link": true
    },
    "kernelspec": {
      "name": "python3",
      "display_name": "Python 3"
    },
    "language_info": {
      "name": "python"
    }
  },
  "cells": [
    {
      "cell_type": "markdown",
      "metadata": {
        "id": "view-in-github",
        "colab_type": "text"
      },
      "source": [
        "<a href=\"https://colab.research.google.com/github/max1496/JAVA_PROGRAMMING/blob/main/%EB%B0%B1%EC%A4%80_11653%EB%B2%88.ipynb\" target=\"_parent\"><img src=\"https://colab.research.google.com/assets/colab-badge.svg\" alt=\"Open In Colab\"/></a>"
      ]
    },
    {
      "cell_type": "code",
      "execution_count": 3,
      "metadata": {
        "colab": {
          "base_uri": "https://localhost:8080/"
        },
        "id": "tbOjsTM_0opZ",
        "outputId": "96cdc6b3-7679-41f9-b2c5-66246a4abd4b"
      },
      "outputs": [
        {
          "output_type": "stream",
          "name": "stdout",
          "text": [
            "72\n",
            "2\n",
            "2\n",
            "2\n",
            "3\n",
            "3\n"
          ]
        }
      ],
      "source": [
        "n= int(input())\n",
        "a=2\n",
        "list=[]\n",
        "while n>=a:\n",
        "    if n%a==0:\n",
        "        n=n//a\n",
        "        list.append(a)\n",
        "    else:\n",
        "        a+=1\n",
        "for i in range(len(list)):\n",
        "    print(list[i])"
      ]
    }
  ]
}