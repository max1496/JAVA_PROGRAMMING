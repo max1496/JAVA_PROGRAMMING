{
  "nbformat": 4,
  "nbformat_minor": 0,
  "metadata": {
    "colab": {
      "name": "백준 1259",
      "provenance": [],
      "collapsed_sections": [],
      "authorship_tag": "ABX9TyN2A8/SXG1yX9/zjMCI//tP",
      "include_colab_link": true
    },
    "kernelspec": {
      "name": "python3",
      "display_name": "Python 3"
    },
    "language_info": {
      "name": "python"
    }
  },
  "cells": [
    {
      "cell_type": "markdown",
      "metadata": {
        "id": "view-in-github",
        "colab_type": "text"
      },
      "source": [
        "<a href=\"https://colab.research.google.com/github/max1496/JAVA_PROGRAMMING/blob/main/%EB%B0%B1%EC%A4%80_1259.ipynb\" target=\"_parent\"><img src=\"https://colab.research.google.com/assets/colab-badge.svg\" alt=\"Open In Colab\"/></a>"
      ]
    },
    {
      "cell_type": "code",
      "execution_count": null,
      "metadata": {
        "colab": {
          "base_uri": "https://localhost:8080/"
        },
        "id": "CRKxoNihPfF1",
        "outputId": "6c0ba810-1ffe-4026-9cd9-1808194d9e3f"
      },
      "outputs": [
        {
          "output_type": "stream",
          "name": "stdout",
          "text": [
            "121\n",
            "yes\n",
            "1231\n",
            "no\n",
            "12321\n",
            "yes\n"
          ]
        }
      ],
      "source": [
        "while True:\n",
        "    n = input()\n",
        "    if n =='0':     #그냥 0 으로 하면 런타임 에러!\n",
        "        break\n",
        "    else:\n",
        "        if n == n[::-1]:\n",
        "            print(\"yes\")\n",
        "        else:\n",
        "            print(\"no\")\n",
        "    \n"
      ]
    }
  ]
}