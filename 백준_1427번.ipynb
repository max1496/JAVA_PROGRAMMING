{
  "nbformat": 4,
  "nbformat_minor": 0,
  "metadata": {
    "colab": {
      "name": "백준 1427번",
      "provenance": [],
      "collapsed_sections": [],
      "authorship_tag": "ABX9TyPJhegXLrIt8nj0GUtjvsuK",
      "include_colab_link": true
    },
    "kernelspec": {
      "name": "python3",
      "display_name": "Python 3"
    },
    "language_info": {
      "name": "python"
    }
  },
  "cells": [
    {
      "cell_type": "markdown",
      "metadata": {
        "id": "view-in-github",
        "colab_type": "text"
      },
      "source": [
        "<a href=\"https://colab.research.google.com/github/max1496/JAVA_PROGRAMMING/blob/main/%EB%B0%B1%EC%A4%80_1427%EB%B2%88.ipynb\" target=\"_parent\"><img src=\"https://colab.research.google.com/assets/colab-badge.svg\" alt=\"Open In Colab\"/></a>"
      ]
    },
    {
      "cell_type": "code",
      "execution_count": null,
      "metadata": {
        "colab": {
          "base_uri": "https://localhost:8080/"
        },
        "id": "wrNEApQy_wGM",
        "outputId": "5c6b4879-59f7-47e9-a168-cf1689bfaa74"
      },
      "outputs": [
        {
          "output_type": "stream",
          "name": "stdout",
          "text": [
            "123\n",
            "321\n"
          ]
        }
      ],
      "source": [
        "a=input()\n",
        "a=list(a)\n",
        "a.sort(reverse=True)\n",
        "print(int(\"\".join(a)))"
      ]
    }
  ]
}