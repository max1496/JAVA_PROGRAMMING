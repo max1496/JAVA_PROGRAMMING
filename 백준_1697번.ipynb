{
  "nbformat": 4,
  "nbformat_minor": 0,
  "metadata": {
    "colab": {
      "name": "백준 1697번",
      "provenance": [],
      "collapsed_sections": [],
      "authorship_tag": "ABX9TyNqYnNMOT+vhZ0RXYwOPGZn",
      "include_colab_link": true
    },
    "kernelspec": {
      "name": "python3",
      "display_name": "Python 3"
    },
    "language_info": {
      "name": "python"
    }
  },
  "cells": [
    {
      "cell_type": "markdown",
      "metadata": {
        "id": "view-in-github",
        "colab_type": "text"
      },
      "source": [
        "<a href=\"https://colab.research.google.com/github/max1496/JAVA_PROGRAMMING/blob/main/%EB%B0%B1%EC%A4%80_1697%EB%B2%88.ipynb\" target=\"_parent\"><img src=\"https://colab.research.google.com/assets/colab-badge.svg\" alt=\"Open In Colab\"/></a>"
      ]
    },
    {
      "cell_type": "code",
      "execution_count": null,
      "metadata": {
        "id": "Vviy1YQtdQiH"
      },
      "outputs": [],
      "source": [
        "from collections import deque\n",
        "\n",
        "def bfs():\n",
        "    queue=deque()\n",
        "    queue.append(n)\n",
        "\n",
        "    while queue:\n",
        "        a=queue.popleft()\n",
        "        if a==k:\n",
        "            print(arr[a])\n",
        "            break\n",
        "        for na in (a-1,a+1,a*2):\n",
        "            if   0<=na<=(10**5) and not arr[na]:\n",
        "                arr[na]=arr[a]+1\n",
        "                queue.append(na)\n",
        "\n",
        "\n",
        "arr=[0]*(10**5+1)\n",
        "\n",
        "n,k=map(int,input().split())\n",
        "\n",
        "bfs()\n"
      ]
    }
  ]
}