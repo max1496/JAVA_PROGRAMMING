{
  "nbformat": 4,
  "nbformat_minor": 0,
  "metadata": {
    "colab": {
      "name": "Untitled9.ipynb",
      "provenance": [],
      "authorship_tag": "ABX9TyONnfQOmGhjfBsu3zy3OBAI",
      "include_colab_link": true
    },
    "kernelspec": {
      "name": "python3",
      "display_name": "Python 3"
    },
    "language_info": {
      "name": "python"
    }
  },
  "cells": [
    {
      "cell_type": "markdown",
      "metadata": {
        "id": "view-in-github",
        "colab_type": "text"
      },
      "source": [
        "<a href=\"https://colab.research.google.com/github/max1496/JAVA_PROGRAMMING/blob/main/Untitled9.ipynb\" target=\"_parent\"><img src=\"https://colab.research.google.com/assets/colab-badge.svg\" alt=\"Open In Colab\"/></a>"
      ]
    },
    {
      "cell_type": "code",
      "execution_count": null,
      "metadata": {
        "id": "a-Lf5ooDkCCT"
      },
      "outputs": [],
      "source": [
        "def solution(n):\n",
        "    answer = ''\n",
        "    for i in range(n):\n",
        "        if i%2 == 0:\n",
        "            answer+=\"수\"\n",
        "        else:\n",
        "            answer+=\"박\"\n",
        "    return answer"
      ]
    }
  ]
}