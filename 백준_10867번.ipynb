{
  "nbformat": 4,
  "nbformat_minor": 0,
  "metadata": {
    "colab": {
      "name": "백준 10867번",
      "provenance": [],
      "collapsed_sections": [],
      "authorship_tag": "ABX9TyPt1J4phfPAxh7g5Fnsnh9n",
      "include_colab_link": true
    },
    "kernelspec": {
      "name": "python3",
      "display_name": "Python 3"
    },
    "language_info": {
      "name": "python"
    }
  },
  "cells": [
    {
      "cell_type": "markdown",
      "metadata": {
        "id": "view-in-github",
        "colab_type": "text"
      },
      "source": [
        "<a href=\"https://colab.research.google.com/github/max1496/JAVA_PROGRAMMING/blob/main/%EB%B0%B1%EC%A4%80_10867%EB%B2%88.ipynb\" target=\"_parent\"><img src=\"https://colab.research.google.com/assets/colab-badge.svg\" alt=\"Open In Colab\"/></a>"
      ]
    },
    {
      "cell_type": "code",
      "execution_count": 2,
      "metadata": {
        "colab": {
          "base_uri": "https://localhost:8080/"
        },
        "id": "uo3K4Ouvk-3G",
        "outputId": "0c785d67-2a04-4051-c1f2-b901142f84e9"
      },
      "outputs": [
        {
          "output_type": "stream",
          "name": "stdout",
          "text": [
            "10\n",
            "1 4 2 3 1 4 2 3 1 2\n",
            "1 2 3 4\n"
          ]
        }
      ],
      "source": [
        "n=int(input())\n",
        "a=list(set(list(map(int,input().split()))))\n",
        "a.sort()\n",
        "print(*a)\n"
      ]
    }
  ]
}